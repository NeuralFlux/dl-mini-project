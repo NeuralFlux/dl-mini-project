{
  "nbformat": 4,
  "nbformat_minor": 0,
  "metadata": {
    "colab": {
      "provenance": [],
      "authorship_tag": "ABX9TyNMCHWrT/DHSaPz5EcBDvAv",
      "include_colab_link": true
    },
    "kernelspec": {
      "name": "python3",
      "display_name": "Python 3"
    },
    "language_info": {
      "name": "python"
    }
  },
  "cells": [
    {
      "cell_type": "markdown",
      "metadata": {
        "id": "view-in-github",
        "colab_type": "text"
      },
      "source": [
        "<a href=\"https://colab.research.google.com/github/NeuralFlux/dl-mini-project/blob/main/Mini_Project_DL.ipynb\" target=\"_parent\"><img src=\"https://colab.research.google.com/assets/colab-badge.svg\" alt=\"Open In Colab\"/></a>"
      ]
    },
    {
      "cell_type": "markdown",
      "source": [
        "Importing the dataset"
      ],
      "metadata": {
        "id": "v4NiWflrDco_"
      }
    },
    {
      "cell_type": "code",
      "execution_count": 1,
      "metadata": {
        "id": "GfeaKfg8BVof"
      },
      "outputs": [],
      "source": [
        "import torchvision\n",
        "from torchvision.datasets import CIFAR10\n",
        "import torchvision.transforms as transforms\n",
        "from PIL import Image\n",
        "import matplotlib.pyplot as plt"
      ]
    },
    {
      "cell_type": "code",
      "source": [
        "# Creating the transforms to augment the dataset\n",
        "\n",
        "transform_train = transforms.Compose([\n",
        "    transforms.RandomHorizontalFlip(),\n",
        "    transforms.Resize((36, 36)),\n",
        "    transforms.RandomCrop(32, padding=4),\n",
        "    transforms.RandomApply(  \n",
        "        [\n",
        "            transforms.ColorJitter(brightness=(0.5, 1.5), contrast=(0.5, 1.5),\n",
        "                                   saturation=(0.5, 1.5), hue=(-0.5, 0.5)),\n",
        "        ],\n",
        "        p=0.5\n",
        "    ),\n",
        "    transforms.ToTensor()\n",
        "  ])\n",
        "\n",
        "transform_test = transforms.ToTensor()"
      ],
      "metadata": {
        "id": "pMTV0bUWx0cM"
      },
      "execution_count": 2,
      "outputs": []
    },
    {
      "cell_type": "code",
      "source": [
        "# Loading the data\n",
        "dataset = CIFAR10(root='data/', download=True, transform=transform_train)\n",
        "test_dataset = CIFAR10(root='data/', train=False, transform=transform_test)"
      ],
      "metadata": {
        "colab": {
          "base_uri": "https://localhost:8080/"
        },
        "id": "WU1kYRbqEmxl",
        "outputId": "0705932a-761a-4b0f-9e71-433f0d5ec052"
      },
      "execution_count": 7,
      "outputs": [
        {
          "output_type": "stream",
          "name": "stdout",
          "text": [
            "Files already downloaded and verified\n"
          ]
        }
      ]
    },
    {
      "cell_type": "code",
      "source": [
        "image, label = dataset[0]"
      ],
      "metadata": {
        "id": "_HlkjTrpFlEv"
      },
      "execution_count": 8,
      "outputs": []
    },
    {
      "cell_type": "code",
      "source": [
        "image = transforms.ToPILImage()(image)\n",
        "\n",
        "image.show(title=f'Original Image (Label: {label})')"
      ],
      "metadata": {
        "colab": {
          "base_uri": "https://localhost:8080/",
          "height": 49
        },
        "id": "2XGfkhVG01Uv",
        "outputId": "c09bb70c-bd15-480a-95d6-abe93f97ac86"
      },
      "execution_count": 9,
      "outputs": [
        {
          "output_type": "display_data",
          "data": {
            "text/plain": [
              "<PIL.Image.Image image mode=RGB size=32x32 at 0x7F2399D537F0>"
            ],
            "image/png": "[encoded data removed]"
          },
          "metadata": {}
        }
      ]
    }
  ]
}